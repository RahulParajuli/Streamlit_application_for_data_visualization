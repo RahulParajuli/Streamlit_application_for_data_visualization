{
 "cells": [
  {
   "cell_type": "code",
   "execution_count": null,
   "metadata": {},
   "outputs": [],
   "source": [
    "import matplotlib.pyplot as plt\n",
    "import pandas as pd\n",
    "import numpy as np\n",
    "\n",
    "from warnings import filterwarnings\n",
    "filterwarnings('ignore')\n",
    "from scipy.special import boxcox1p, inv_boxcox\n",
    "import statsmodels.api as sm\n",
    "import statsmodels.formula.api as smf\n",
    "import statsmodels.tsa.api as smt\n",
    "import scipy.stats as scs\n",
    "from itertools import product"
   ]
  },
  {
   "cell_type": "code",
   "execution_count": 1,
   "metadata": {},
   "outputs": [],
   "source": [
    "def mean_absolute_percentage_error(y_true, y_pred):\n",
    "    return np.mean(np.abs((y_true - y_pred) / y_true)) * 100"
   ]
  },
  {
   "cell_type": "code",
   "execution_count": 2,
   "metadata": {},
   "outputs": [],
   "source": [
    "def tsplot(y, lags=None, figsize=(10,8), system= \"bmh\"):\n",
    "    #plot time series\n",
    "    if not isinstance(y,pd.Series):\n",
    "        y = pd.Series(y)\n",
    "    with plt.style.context(system):\n",
    "        fig = plt.figure(figsize=figsize)\n",
    "        layout = (2,2)\n",
    "        ts_ax = plt.subplot2grid(layout, (0,0), colspan=2)\n",
    "        hist_ax = plt.subplot2grid(layout, (1,0))\n",
    "        acf_ax = plt.subplot2grid(layout, (1,1))\n",
    "        y.plot(ax=ts_ax)\n",
    "        ts_ax.set_title('Time Series Analysis Plots')\n",
    "        y.plot(ax=hist_ax, kind='hist', bins=25)\n",
    "        hist_ax.set_title('Histogram')s\n",
    "        smt.graphics.plot_acf(y, lags=lags, ax=acf_ax, alpha=0.5)\n",
    "        plt.tight_layout()\n",
    "    return"
   ]
  },
  {
   "cell_type": "code",
   "execution_count": 3,
   "metadata": {},
   "outputs": [],
   "source": [
    "def display_menu():\n",
    "    option = input(\"Enter your operation\\n1. forcast my sales\\n2. Exit\\n \")\n",
    "    return option"
   ]
  },
  {
   "cell_type": "code",
   "execution_count": 4,
   "metadata": {},
   "outputs": [],
   "source": [
    "def datafiltering(df):\n",
    "    df = df[['Created at', 'Paid Price']]\n",
    "    df.rename(columns={'Created at':'Date', 'Paid Price':'Sales'}, inplace=True)\n",
    "    df = df.dropna()\n",
    "    # df = df[(df['Sales'] > 0) & (df['Sales'] < 100000)]\n",
    "    df = df.fillna(0)\n",
    "    return df"
   ]
  },
  {
   "cell_type": "code",
   "execution_count": 5,
   "metadata": {},
   "outputs": [],
   "source": [
    "def forecast_sales(df):\n",
    "    print(df.isnull().sum())\n",
    "    df = df.set_index('Date')\n",
    "    df.index = pd.to_datetime(df.index)\n",
    "    df = df.sort_index()\n",
    "    plt.plot(df)\n",
    "    # plot(df)\n",
    "    plt.xlabel('Date')\n",
    "    plt.ylabel('Sales')\n",
    "    plt.title('Sales')\n",
    "    plt.show()\n",
    "    df = df.resample('MS').mean()\n",
    "    df.fillna(0, inplace=True)\n",
    "    print(df)\n",
    "    tsplot(df['Sales'], lags=30)\n",
    "    plt.show()\n",
    "    return df"
   ]
  },
  {
   "cell_type": "code",
   "execution_count": 6,
   "metadata": {},
   "outputs": [],
   "source": [
    "def decompose(df):\n",
    "    #decompose sales\n",
    "    decomposition = sm.tsa.seasonal_decompose(df['Sales'], model='additive')\n",
    "    print(decomposition.trend)\n",
    "    fig = decomposition.plot()\n",
    "    fig.show()\n",
    "    plt.show()\n",
    "    #test for stationarity\n",
    "    print(\"Dickey-Fuller test: p=%f\" % sm.tsa.stattools.adfuller(df['Sales'])[1])\n",
    "    #make sales stationary\n",
    "    print(df['Sales'].values)\n",
    "    df['Sales_box'] = df.apply(lambda x: boxcox1p(df['Sales'], 0.15), axis=0)\n",
    "    \n",
    "    print(df['Sales_box'].values)\n",
    "    print(\"Dickey-Fuller test: p=%f\" % sm.tsa.stattools.adfuller(df['Sales_box'])[1])\n",
    "\n",
    "    #plot sales\n",
    "    tsplot(df['Sales_box'], lags=30)\n",
    "\n",
    "    #decompose sales\n",
    "    decomposition = sm.tsa.seasonal_decompose(df['Sales_box'], model='additive')\n",
    "    fig = decomposition.plot()\n",
    "    fig.show()\n",
    "    plt.show()\n",
    "    return df\n"
   ]
  },
  {
   "cell_type": "code",
   "execution_count": 7,
   "metadata": {},
   "outputs": [],
   "source": [
    "def arima(df):\n",
    "    #ACF and PACF for sales\n",
    "    plt.figure(figsize=(10,8))\n",
    "    ax = plt.subplot(211)\n",
    "    sm.graphics.tsa.plot_acf(df['Sales_box'].values.squeeze(), lags=25, ax=ax)\n",
    "    ax = plt.subplot(212)\n",
    "    sm.graphics.tsa.plot_pacf(df['Sales_box'], lags=20, ax=ax)\n",
    "    plt.tight_layout()\n",
    "    plt.show()\n",
    "\n",
    "    #set parameters\n",
    "    Qs = range(0,2)\n",
    "    qs = range(0,2)\n",
    "    Ps = range(0,2)\n",
    "    ps = range(0,2)\n",
    "    D = 1\n",
    "    d = 1\n",
    "    parameters = product(ps, qs, Ps, Qs)\n",
    "    parameters_list = list(parameters)\n",
    "    print(len(parameters_list))\n",
    "\n",
    "    #find best parameters\n",
    "    results = []\n",
    "    best_aic = float(\"inf\")\n",
    "    print(results)\n",
    "    print(best_aic)\n",
    "    for param in parameters_list:\n",
    "        try:\n",
    "            model = sm.tsa.statespace.SARIMAX(df['Sales_box'], order=(param[0], d, param[1]),\n",
    "                                            seasonal_order=(param[2], D, param[3], 12)).fit(disp=-1)\n",
    "            results.append([param, model.aic])\n",
    "            if model.aic < best_aic:\n",
    "                best_model = model\n",
    "                print(best_model)\n",
    "                best_aic = model.aic\n",
    "                best_param = param\n",
    "                print(best_param)\n",
    "        except Exception as err:\n",
    "            print(err)\n",
    "            # print(\"exception in the data\")\n",
    "    \n",
    "    print(best_model.summary())\n",
    "    return best_model"
   ]
  },
  {
   "cell_type": "code",
   "execution_count": 8,
   "metadata": {},
   "outputs": [],
   "source": [
    "def residuals(df, best_model):\n",
    "    #plot residuals\n",
    "    # plt.figure(figsize=(15,8))\n",
    "    # plt.subplot(211)\n",
    "    best_model.resid[13:].plot()\n",
    "    plt.show()\n",
    "    best_model.resid[13:].plot(kind='kde')\n",
    "    plt.show()\n",
    "    print(\"Dickey-Fuller test: p=%f\" % sm.tsa.stattools.adfuller(best_model.resid[13:])[1])\n",
    "\n",
    "    #forecast sales\n",
    "    df['forecast'] = inv_boxcox(best_model.predict(start=0, end=100), 0.15)\n",
    "    df[['Sales', 'forecast']].plot(figsize=(15, 6))\n",
    "    plt.show()\n",
    "\n",
    "    #forecast sales for next 12 months\n",
    "    df['forecast'] = inv_boxcox(best_model.predict(start=0, end=100), 0.15)\n",
    "    df[['Sales', 'forecast']].plot(figsize=(15, 6))\n",
    "    plt.show()\n",
    "    # return {{\"df\": df}}"
   ]
  },
  {
   "cell_type": "code",
   "execution_count": 9,
   "metadata": {},
   "outputs": [],
   "source": [
    "def plot(df):\n",
    "    plt.plot(df['Sales'])\n",
    "    plt.xlabel('Date')\n",
    "    plt.ylabel('Sales')\n",
    "    plt.title('Sales')\n",
    "    plt.show()"
   ]
  },
  {
   "cell_type": "code",
   "execution_count": 10,
   "metadata": {},
   "outputs": [],
   "source": [
    "def monthwise_sales_prediction(best_model, month):\n",
    "    month = pd.to_datetime(month)\n",
    "    df['forecast'] = inv_boxcox(best_model.predict(start=0, end=month), 0.15)\n",
    "    df[['Sales', 'forecast']].plot(figsize=(15, 6))\n",
    "    plt.show()"
   ]
  },
  {
   "cell_type": "code",
   "execution_count": 11,
   "metadata": {},
   "outputs": [],
   "source": [
    "def futuresales(best_model, df):\n",
    "    from pandas.tseries.offsets import DateOffset\n",
    "    future_dates = [df.index[-1] + DateOffset(months=x) for x in range(0,24)]\n",
    "    future_datest_df = pd.DataFrame(index=future_dates[1:], columns=df.columns)\n",
    "    future_df = pd.concat([df, future_datest_df])\n",
    "    future_df['forecast'] = inv_boxcox(best_model.predict(start=0, end=100), 0.15)\n",
    "    print(future_df)\n",
    "    future_df[['Sales', 'forecast']].plot(figsize=(15, 6))\n",
    "    plt.show()"
   ]
  },
  {
   "cell_type": "code",
   "execution_count": 12,
   "metadata": {},
   "outputs": [],
   "source": [
    "def futuremonth(best_model, df):\n",
    "    from pandas.tseries.offsets import DateOffset\n",
    "    future_dates = [df.index[-1] + DateOffset(months=x) for x in range(0,2)]\n",
    "    future_datest_df = pd.DataFrame(index=future_dates[1:], columns=df.columns)\n",
    "    future_df = pd.concat([df, future_datest_df])\n",
    "    future_df['forecast'] = inv_boxcox(best_model.predict(start=0, end=100), 0.15)\n",
    "    print(future_df)\n",
    "    print(\"_\"*50)\n",
    "    print(\"Sales forecast for next month is: \", future_df['forecast'].iloc[-1])\n",
    "    future_df[['Sales', 'forecast']].plot(figsize=(15, 6))\n",
    "    plt.show()"
   ]
  },
  {
   "cell_type": "code",
   "execution_count": 13,
   "metadata": {},
   "outputs": [],
   "source": [
    "def futurethreemonths(best_model, df):\n",
    "    from pandas.tseries.offsets import DateOffset\n",
    "    future_dates = [df.index[-1] + DateOffset(months=x) for x in range(0,4)]\n",
    "    future_datest_df = pd.DataFrame(index=future_dates[1:], columns=df.columns)\n",
    "    future_df = pd.concat([df, future_datest_df])\n",
    "    future_df['forecast'] = inv_boxcox(best_model.predict(start=0, end=100), 0.15)\n",
    "    print(future_df)\n",
    "    print(\"_\"*50)\n",
    "    print(\"Sales forecast for next 3 months is: \", future_df['forecast'].iloc[-1])\n",
    "    future_df[['Sales', 'forecast']].plot(figsize=(15, 6))\n",
    "    plt.show()"
   ]
  },
  {
   "cell_type": "code",
   "execution_count": 16,
   "metadata": {},
   "outputs": [],
   "source": [
    "# import pandas as pd\n",
    "def readfile():\n",
    "    filename = input(\"enter a file path: \")\n",
    "    if filename.endswith('.csv'):\n",
    "        df = pd.read_csv(filename,sep=';', header=0)\n",
    "        print(\"you have entered a CSV file\")\n",
    "    elif filename.endswith('.xlsx'):\n",
    "        df = pd.read_excel(filename)\n",
    "        print(\"you have entered a XLSX file\")\n",
    "    else:\n",
    "        raise ValueError('Unknown file type')\n",
    "    return df\n",
    "\n"
   ]
  },
  {
   "cell_type": "code",
   "execution_count": null,
   "metadata": {},
   "outputs": [],
   "source": [
    "\n",
    "df = readfile()\n",
    "df = datafiltering(df)\n",
    "plot(df)\n",
    "df = forecast_sales(df)\n",
    "df = decompose(df)\n",
    "best_model = arima(df)\n",
    "residuals(df, best_model)\n",
    "# month = input(\"enter a month to forecast: \")\n",
    "# monthwise_sales_prediction(best_model, month)\n",
    "futuresales(best_model, df)\n",
    "futuremonth(best_model, df)\n",
    "futurethreemonths(best_model, df)"
   ]
  }
 ],
 "metadata": {
  "kernelspec": {
   "display_name": "Python 3.10.4 64-bit",
   "language": "python",
   "name": "python3"
  },
  "language_info": {
   "codemirror_mode": {
    "name": "ipython",
    "version": 3
   },
   "file_extension": ".py",
   "mimetype": "text/x-python",
   "name": "python",
   "nbconvert_exporter": "python",
   "pygments_lexer": "ipython3",
   "version": "3.10.4"
  },
  "orig_nbformat": 4,
  "vscode": {
   "interpreter": {
    "hash": "916dbcbb3f70747c44a77c7bcd40155683ae19c65e1c03b4aa3499c5328201f1"
   }
  }
 },
 "nbformat": 4,
 "nbformat_minor": 2
}
